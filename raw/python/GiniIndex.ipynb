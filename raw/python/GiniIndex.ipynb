{
 "cells": [
  {
   "cell_type": "code",
   "execution_count": 1,
   "id": "490566df",
   "metadata": {},
   "outputs": [],
   "source": [
    "#os control\n",
    "import os, sys\n",
    "\n",
    "import re\n",
    "\n",
    "\n",
    "import pandas as pd\n",
    "import numpy as np\n",
    "import io\n",
    "\n",
    "import matplotlib.pyplot as plt\n",
    "import seaborn as sns"
   ]
  },
  {
   "cell_type": "code",
   "execution_count": 6,
   "id": "b3904861",
   "metadata": {},
   "outputs": [],
   "source": [
    "def gini_cal(fractions):\n",
    "    \n",
    "    n = float(fractions.size)\n",
    "    \n",
    "    cum_fractions = np.cumsum(sorted(np.append(fractions, 0)))\n",
    "    \n",
    "    sum_fractions = cum_fractions[-1]\n",
    "    \n",
    "    giniCoef = 1 - 2*(float(np.sum(cum_fractions) - sum_fractions/2)/sum_fractions/n)\n",
    "    \n",
    "    return format(giniCoef, '.5f')\n",
    "    \n",
    "    "
   ]
  },
  {
   "cell_type": "code",
   "execution_count": 3,
   "id": "1bef690e",
   "metadata": {},
   "outputs": [],
   "source": [
    "clonePath = '/Users/huiyu818/Project/TCR/Clone/'\n",
    "\n",
    "cloneFiles = os.listdir(clonePath)"
   ]
  },
  {
   "cell_type": "code",
   "execution_count": 4,
   "id": "0eb2ac4e",
   "metadata": {},
   "outputs": [
    {
     "data": {
      "text/plain": [
       "'P1168_101'"
      ]
     },
     "execution_count": 4,
     "metadata": {},
     "output_type": "execute_result"
    }
   ],
   "source": [
    "cloneFiles[1][:-15]"
   ]
  },
  {
   "cell_type": "code",
   "execution_count": 5,
   "id": "2c21cf60",
   "metadata": {},
   "outputs": [],
   "source": [
    "sampGini = {}"
   ]
  },
  {
   "cell_type": "code",
   "execution_count": 7,
   "id": "9ee8920e",
   "metadata": {},
   "outputs": [
    {
     "name": "stdout",
     "output_type": "stream",
     "text": [
      "The gini index of P876_108 is 0.44593\n",
      "The gini index of P1168_101 is 0.36739\n",
      "The gini index of P1168_114 is 0.54446\n",
      "The gini index of P829_129 is 0.42974\n",
      "The gini index of P1121_146 is 0.22332\n",
      "The gini index of P829_121 is 0.25155\n",
      "The gini index of P829_134 is 0.20473\n",
      "The gini index of P1121_137 is 0.24060\n",
      "The gini index of P1121_122 is 0.23287\n",
      "The gini index of P1168_109 is 0.36356\n",
      "The gini index of P1254_101 is 0.18783\n",
      "The gini index of P1254_114 is 0.22230\n",
      "The gini index of P876_115 is 0.33029\n",
      "The gini index of P1121_138 is 0.26502\n",
      "The gini index of P1168_113 is 0.14230\n",
      "The gini index of P1168_106 is 0.29899\n",
      "The gini index of P829_133 is 0.31503\n",
      "The gini index of P829_126 is 0.29059\n",
      "The gini index of P1121_141 is 0.28186\n",
      "The gini index of P876_107 is 0.23924\n",
      "The gini index of P876_112 is 0.09883\n",
      "The gini index of P1254_113 is 0.30561\n",
      "The gini index of P1254_106 is 0.23171\n",
      "The gini index of P1121_125 is 0.37833\n",
      "The gini index of P1121_130 is 0.18247\n",
      "The gini index of P1121_140 is 0.19765\n",
      "The gini index of P829_127 is 0.14363\n",
      "The gini index of P829_132 is 0.25211\n",
      "The gini index of P1121_131 is 0.28235\n",
      "The gini index of P1121_124 is 0.18376\n",
      "The gini index of P1254_107 is 0.32807\n",
      "The gini index of P1254_112 is 0.13897\n",
      "The gini index of P876_113 is 0.36032\n",
      "The gini index of P876_106 is 0.13815\n",
      "The gini index of P1168_107 is 0.28634\n",
      "The gini index of P1168_112 is 0.15662\n",
      "The gini index of P1121_139 is 0.18891\n",
      "The gini index of P829_135 is 0.38727\n",
      "The gini index of P829_120 is 0.20985\n",
      "The gini index of P1121_147 is 0.18320\n",
      "The gini index of P876_101 is 0.11635\n",
      "The gini index of P876_114 is 0.26345\n",
      "The gini index of P1168_108 is 0.30663\n",
      "The gini index of P1254_115 is 0.48262\n",
      "The gini index of P1121_123 is 0.15288\n",
      "The gini index of P1121_136 is 0.15125\n",
      "The gini index of P1168_115 is 0.13276\n",
      "The gini index of P1254_108 is 0.30343\n",
      "The gini index of P876_109 is 0.15919\n",
      "The gini index of P829_128 is 0.29417\n",
      "The gini index of P1121_121 is 0.13329\n",
      "The gini index of P1121_134 is 0.62491\n",
      "The gini index of P876_103 is 0.17795\n",
      "The gini index of P876_116 is 0.26417\n",
      "The gini index of P1254_117 is 0.31089\n",
      "The gini index of P1254_102 is 0.32684\n",
      "The gini index of P1121_145 is 0.20804\n",
      "The gini index of P829_137 is 0.22203\n",
      "The gini index of P829_122 is 0.18729\n",
      "The gini index of P1168_117 is 0.33994\n",
      "The gini index of P1168_102 is 0.24364\n",
      "The gini index of P1121_129 is 0.31908\n",
      "The gini index of P1168_118 is 0.31597\n",
      "The gini index of P1254_105 is 0.24577\n",
      "The gini index of P1254_110 is 0.36815\n",
      "The gini index of P876_111 is 0.14444\n",
      "The gini index of P876_104 is 0.07376\n",
      "The gini index of P1121_133 is 0.15647\n",
      "The gini index of P1121_126 is 0.20711\n",
      "The gini index of P829_125 is 0.22658\n",
      "The gini index of P829_130 is 0.26736\n",
      "The gini index of P1121_142 is 0.19878\n",
      "The gini index of P829_138 is 0.37739\n",
      "The gini index of P876_119 is 0.10487\n",
      "The gini index of P1168_105 is 0.35247\n",
      "The gini index of P1168_110 is 0.19231\n",
      "The gini index of P1254_118 is 0.14420\n",
      "The gini index of P829_139 is 0.34620\n",
      "The gini index of P1168_111 is 0.28616\n",
      "The gini index of P1168_104 is 0.39114\n",
      "The gini index of P1254_119 is 0.20004\n",
      "The gini index of P876_118 is 0.39707\n",
      "The gini index of P1121_127 is 0.21279\n",
      "The gini index of P1121_132 is 0.39192\n",
      "The gini index of P876_105 is 0.29806\n",
      "The gini index of P876_110 is 0.25290\n",
      "The gini index of P1168_119 is 0.20394\n",
      "The gini index of P1254_111 is 0.29102\n",
      "The gini index of P1254_104 is 0.19333\n",
      "The gini index of P1121_143 is 0.13376\n",
      "The gini index of P829_131 is 0.29427\n",
      "The gini index of P829_124 is 0.29596\n",
      "The gini index of P1121_128 is 0.33178\n",
      "The gini index of P1168_103 is 0.35384\n",
      "The gini index of P1168_116 is 0.16628\n",
      "The gini index of P1254_103 is 0.14843\n",
      "The gini index of P1254_116 is 0.22619\n",
      "The gini index of P876_117 is 0.31796\n",
      "The gini index of P876_102 is 0.23260\n",
      "The gini index of P1121_135 is 0.13579\n",
      "The gini index of P1121_120 is 0.15767\n",
      "The gini index of P829_123 is 0.24621\n",
      "The gini index of P829_136 is 0.12779\n",
      "The gini index of P1121_144 is 0.12704\n",
      "The gini index of P1168_146 is 0.21626\n",
      "The gini index of P1168_137 is 0.17385\n",
      "The gini index of P1168_122 is 0.21349\n",
      "The gini index of P1121_109 is 0.36195\n",
      "The gini index of P1121_101 is 0.27454\n",
      "The gini index of P1121_114 is 0.16950\n",
      "The gini index of P876_123 is 0.22747\n",
      "The gini index of P876_136 is 0.16033\n",
      "The gini index of P1254_137 is 0.25942\n",
      "The gini index of P1254_122 is 0.32833\n",
      "The gini index of P1254_153 is 0.18175\n",
      "The gini index of P1254_146 is 0.27181\n",
      "The gini index of P829_117 is 0.48832\n",
      "The gini index of P829_102 is 0.23886\n",
      "The gini index of P1254_149 is 0.21683\n",
      "The gini index of P1168_141 is 0.18313\n",
      "The gini index of P829_118 is 0.22772\n",
      "The gini index of P876_139 is 0.30661\n",
      "The gini index of P1168_125 is 0.21377\n",
      "The gini index of P1168_130 is 0.15569\n",
      "The gini index of P1254_138 is 0.39007\n",
      "The gini index of P1168_138 is 0.15776\n",
      "The gini index of P1254_125 is 0.43997\n",
      "The gini index of P1254_130 is 0.18700\n",
      "The gini index of P876_131 is 0.24196\n",
      "The gini index of P876_124 is 0.20772\n",
      "The gini index of P1121_113 is 0.20492\n",
      "The gini index of P1121_106 is 0.12310\n",
      "The gini index of P829_105 is 0.22061\n",
      "The gini index of P829_110 is 0.12703\n",
      "The gini index of P1254_141 is 0.29863\n",
      "The gini index of P1254_154 is 0.27949\n",
      "The gini index of P876_140 is 0.22604\n",
      "The gini index of P1121_107 is 0.14159\n",
      "The gini index of P1121_112 is 0.19261\n",
      "The gini index of P876_125 is 0.16991\n",
      "The gini index of P876_130 is 0.40892\n",
      "The gini index of P1168_139 is 0.18588\n",
      "The gini index of P1254_131 is 0.18369\n",
      "The gini index of P1254_124 is 0.36259\n",
      "The gini index of P876_141 is 0.25425\n",
      "The gini index of P1254_155 is 0.21256\n",
      "The gini index of P1254_140 is 0.30105\n",
      "The gini index of P829_111 is 0.41575\n",
      "The gini index of P829_104 is 0.29756\n",
      "The gini index of P1254_148 is 0.27256\n",
      "The gini index of P1168_140 is 0.26439\n",
      "The gini index of P1168_131 is 0.42181\n",
      "The gini index of P1168_124 is 0.14512\n",
      "The gini index of P1254_139 is 0.25837\n",
      "The gini index of P876_138 is 0.19096\n",
      "The gini index of P1254_123 is 0.30612\n",
      "The gini index of P1254_136 is 0.28707\n",
      "The gini index of P876_137 is 0.20266\n",
      "The gini index of P876_122 is 0.30200\n",
      "The gini index of P1121_115 is 0.21272\n",
      "The gini index of P829_103 is 0.17236\n",
      "The gini index of P829_116 is 0.51035\n",
      "The gini index of P1254_147 is 0.37548\n",
      "The gini index of P1254_152 is 0.29942\n",
      "The gini index of P1168_147 is 0.25482\n",
      "The gini index of P1121_108 is 0.46294\n",
      "The gini index of P1168_123 is 0.11259\n",
      "The gini index of P1168_136 is 0.17244\n",
      "The gini index of P1254_145 is 0.34870\n",
      "The gini index of P1254_150 is 0.22682\n",
      "The gini index of P829_101 is 0.25131\n",
      "The gini index of P829_114 is 0.38827\n",
      "The gini index of P1121_117 is 0.26110\n",
      "The gini index of P1121_102 is 0.27629\n",
      "The gini index of P1168_129 is 0.10655\n",
      "The gini index of P1254_121 is 0.21620\n",
      "The gini index of P1254_134 is 0.26932\n",
      "The gini index of P876_135 is 0.25144\n",
      "The gini index of P876_120 is 0.55693\n",
      "The gini index of P876_128 is 0.24487\n",
      "The gini index of P1168_121 is 0.12747\n",
      "The gini index of P1168_134 is 0.29779\n",
      "The gini index of P1254_129 is 0.34893\n",
      "The gini index of P829_109 is 0.28349\n",
      "The gini index of P1168_145 is 0.26432\n",
      "The gini index of P829_113 is 0.26390\n",
      "The gini index of P829_106 is 0.68782\n",
      "The gini index of P1254_142 is 0.40011\n",
      "The gini index of P876_127 is 0.35573\n",
      "The gini index of P876_132 is 0.39917\n",
      "The gini index of P1254_133 is 0.41203\n",
      "The gini index of P1254_126 is 0.24991\n",
      "The gini index of P1121_110 is 0.34429\n",
      "The gini index of P1121_118 is 0.73468\n",
      "The gini index of P1168_133 is 0.34464\n",
      "The gini index of P1168_126 is 0.31206\n",
      "The gini index of P1168_142 is 0.18156\n",
      "The gini index of P1168_127 is 0.54506\n",
      "The gini index of P1168_132 is 0.23301\n",
      "The gini index of P1121_119 is 0.28512\n",
      "The gini index of P1168_143 is 0.37669\n",
      "The gini index of P1254_143 is 0.25175\n",
      "The gini index of P876_142 is 0.34793\n",
      "The gini index of P829_107 is 0.24288\n",
      "The gini index of P829_112 is 0.38325\n",
      "The gini index of P1121_111 is 0.29326\n",
      "The gini index of P1121_104 is 0.41111\n",
      "The gini index of P1254_127 is 0.31988\n",
      "The gini index of P1254_132 is 0.19836\n",
      "The gini index of P876_133 is 0.21212\n",
      "The gini index of P876_126 is 0.64564\n",
      "The gini index of P1168_135 is 0.15396\n",
      "The gini index of P1168_120 is 0.19415\n",
      "The gini index of P1254_128 is 0.34031\n",
      "The gini index of P876_129 is 0.20143\n",
      "The gini index of P1168_144 is 0.42106\n",
      "The gini index of P829_108 is 0.25298\n",
      "The gini index of P829_115 is 0.23313\n",
      "The gini index of P1254_151 is 0.39743\n",
      "The gini index of P1254_144 is 0.26094\n",
      "The gini index of P876_121 is 0.33584\n",
      "The gini index of P876_134 is 0.37335\n",
      "The gini index of P1168_128 is 0.42300\n",
      "The gini index of P1254_135 is 0.27300\n",
      "The gini index of P1254_120 is 0.29455\n",
      "The gini index of P1121_103 is 0.13775\n",
      "The gini index of P1121_116 is 0.30431\n"
     ]
    }
   ],
   "source": [
    "\n",
    "for i in cloneFiles:\n",
    "    \n",
    "    sampID = i[:-15]\n",
    "    \n",
    "    tPath = clonePath + i\n",
    "    \n",
    "    cloneT = pd.read_csv(tPath, sep='\\t')\n",
    "    \n",
    "    cloneFra = cloneT['cloneCount'].values\n",
    "    \n",
    "    giniIndex = gini_cal(cloneFra)\n",
    "    \n",
    "    sampGini[sampID] = giniIndex\n",
    "    \n",
    "    print('The gini index of {} is {}'.format(sampID, giniIndex))\n"
   ]
  },
  {
   "cell_type": "code",
   "execution_count": 8,
   "id": "ed16fbe0",
   "metadata": {},
   "outputs": [
    {
     "data": {
      "text/plain": [
       "227"
      ]
     },
     "execution_count": 8,
     "metadata": {},
     "output_type": "execute_result"
    }
   ],
   "source": [
    "len(sampGini)"
   ]
  },
  {
   "cell_type": "code",
   "execution_count": 13,
   "id": "4bb27c8f",
   "metadata": {},
   "outputs": [
    {
     "data": {
      "text/plain": [
       "P876_108     0.44593\n",
       "P1168_101    0.36739\n",
       "P1168_114    0.54446\n",
       "P829_129     0.42974\n",
       "P1121_146    0.22332\n",
       "              ...   \n",
       "P1168_128    0.42300\n",
       "P1254_135    0.27300\n",
       "P1254_120    0.29455\n",
       "P1121_103    0.13775\n",
       "P1121_116    0.30431\n",
       "Length: 227, dtype: object"
      ]
     },
     "execution_count": 13,
     "metadata": {},
     "output_type": "execute_result"
    }
   ],
   "source": [
    "giniSeries = pd.Series(sampGini)\n",
    "giniSeries"
   ]
  },
  {
   "cell_type": "code",
   "execution_count": 14,
   "id": "cee545d7",
   "metadata": {},
   "outputs": [
    {
     "data": {
      "text/plain": [
       "giniIndex\n",
       "P876_108     0.44593\n",
       "P1168_101    0.36739\n",
       "P1168_114    0.54446\n",
       "P829_129     0.42974\n",
       "P1121_146    0.22332\n",
       "              ...   \n",
       "P1168_128    0.42300\n",
       "P1254_135    0.27300\n",
       "P1254_120    0.29455\n",
       "P1121_103    0.13775\n",
       "P1121_116    0.30431\n",
       "Length: 227, dtype: object"
      ]
     },
     "execution_count": 14,
     "metadata": {},
     "output_type": "execute_result"
    }
   ],
   "source": [
    "giniSeries.rename_axis('giniIndex')"
   ]
  },
  {
   "cell_type": "code",
   "execution_count": 17,
   "id": "f03f8c73",
   "metadata": {},
   "outputs": [],
   "source": [
    "giniSeries.to_csv('/Users/huiyu818/Project/TCR/GiniIndex.csv', index_label='SampID')"
   ]
  },
  {
   "cell_type": "code",
   "execution_count": 19,
   "id": "c2d83c64",
   "metadata": {},
   "outputs": [],
   "source": [
    "giniSeries.to_excel('/Users/huiyu818/Project/TCR/GiniIndex.xlsx', index_label='SampID')"
   ]
  },
  {
   "cell_type": "code",
   "execution_count": null,
   "id": "2bc1fd06",
   "metadata": {},
   "outputs": [],
   "source": []
  },
  {
   "cell_type": "markdown",
   "id": "772ec7a6",
   "metadata": {},
   "source": [
    "# Testing Block"
   ]
  },
  {
   "cell_type": "code",
   "execution_count": 9,
   "id": "cbd1acce",
   "metadata": {},
   "outputs": [],
   "source": [
    "d = {\n",
    "    \"one\": pd.Series([1.0, 2.0, 3.0], index=[\"a\", \"b\", \"c\"]),\n",
    "    \"two\": pd.Series([1.0, 2.0, 3.0, 4.0], index=[\"a\", \"b\", \"c\", \"d\"]),\n",
    "}"
   ]
  },
  {
   "cell_type": "code",
   "execution_count": 10,
   "id": "856def04",
   "metadata": {},
   "outputs": [
    {
     "data": {
      "text/plain": [
       "{'one': a    1.0\n",
       " b    2.0\n",
       " c    3.0\n",
       " dtype: float64,\n",
       " 'two': a    1.0\n",
       " b    2.0\n",
       " c    3.0\n",
       " d    4.0\n",
       " dtype: float64}"
      ]
     },
     "execution_count": 10,
     "metadata": {},
     "output_type": "execute_result"
    }
   ],
   "source": [
    "d"
   ]
  }
 ],
 "metadata": {
  "kernelspec": {
   "display_name": "Python 3 (ipykernel)",
   "language": "python",
   "name": "python3"
  },
  "language_info": {
   "codemirror_mode": {
    "name": "ipython",
    "version": 3
   },
   "file_extension": ".py",
   "mimetype": "text/x-python",
   "name": "python",
   "nbconvert_exporter": "python",
   "pygments_lexer": "ipython3",
   "version": "3.9.19"
  },
  "widgets": {
   "application/vnd.jupyter.widget-state+json": {
    "state": {},
    "version_major": 2,
    "version_minor": 0
   }
  }
 },
 "nbformat": 4,
 "nbformat_minor": 5
}
